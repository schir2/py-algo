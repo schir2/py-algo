{
 "cells": [
  {
   "cell_type": "markdown",
   "metadata": {},
   "source": [
    "# Binary Tree\n",
    "\n",
    "A binary tree is a data structure containing interconnected nodes. There are two types of nodes. A parent node and a child node. A parent node can only have up to two child nodes. Child nodes can also be parents that follow the same rules as the parent node. Child nodes can be further classified as left or right child.\n",
    "\n",
    "The children nodes at the bottom of a binary tree are called leaves. \n",
    "\n",
    "The depth of the tree is the amount of levels that the tree traverses counted from bottom up.\n",
    "\n",
    "## Complete Binary Tree:\n",
    "A filled tree with the exception of the bottom level. The bottom level has to have it's elements as far left as possible\n",
    "\n",
    "## Full Binary Tree:\n",
    "A full binary tree with with all branches filled. The base of the tree (leaves)  are all maxed and have no children themselves."
   ]
  },
  {
   "cell_type": "markdown",
   "metadata": {},
   "source": [
    "Binary Tree Node"
   ]
  },
  {
   "cell_type": "code",
   "execution_count": 14,
   "metadata": {},
   "outputs": [],
   "source": [
    "class node:\n",
    "    def __init__(self, key):\n",
    "        self.left = None\n",
    "        self.right = None\n",
    "        self.val = key\n",
    "        \n",
    "    def __str__(self):\n",
    "        return f'{self.val}'"
   ]
  },
  {
   "cell_type": "markdown",
   "metadata": {},
   "source": [
    "Root Node"
   ]
  },
  {
   "cell_type": "code",
   "execution_count": 15,
   "metadata": {},
   "outputs": [],
   "source": [
    "root = node(1)"
   ]
  },
  {
   "cell_type": "markdown",
   "metadata": {},
   "source": [
    "Adding Child nodes"
   ]
  },
  {
   "cell_type": "code",
   "execution_count": 17,
   "metadata": {},
   "outputs": [],
   "source": [
    "root.left = node(2)\n",
    "root.right = node(3)"
   ]
  },
  {
   "cell_type": "code",
   "execution_count": null,
   "metadata": {},
   "outputs": [],
   "source": []
  }
 ],
 "metadata": {
  "kernelspec": {
   "display_name": "Python 3",
   "language": "python",
   "name": "python3"
  },
  "language_info": {
   "codemirror_mode": {
    "name": "ipython",
    "version": 3
   },
   "file_extension": ".py",
   "mimetype": "text/x-python",
   "name": "python",
   "nbconvert_exporter": "python",
   "pygments_lexer": "ipython3",
   "version": "3.7.4"
  }
 },
 "nbformat": 4,
 "nbformat_minor": 4
}
