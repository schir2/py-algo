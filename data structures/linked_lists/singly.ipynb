{
 "cells": [
  {
   "cell_type": "markdown",
   "metadata": {},
   "source": [
    "# Singly Linked Lists\n",
    "\n",
    "- Singly Linked List\n",
    "- Doubly Linked List\n",
    "- Cicular Linked List\n",
    "\n",
    "Composed of Nodes that contain data and a next pointer that points to the next node.\n",
    "- Nodes\n",
    "- Data\n",
    "- Next\n",
    "- Head: First Element\n",
    "- Null: Last Node pointing to the end of the list"
   ]
  },
  {
   "cell_type": "markdown",
   "metadata": {},
   "source": [
    "## Array vs Linked List\n",
    "\n",
    "### Linked List:\n",
    "- Insertion/Deletion: O(1)\n",
    "- Access Element: O(n)\n",
    "- Contigous memory?: No\n",
    "\n",
    "### Array\n",
    "- Insertion/Deletion: O(n)\n",
    "- Access Element: O(1)\n",
    "- Contigous memory?: Yes"
   ]
  },
  {
   "cell_type": "code",
   "execution_count": 79,
   "metadata": {},
   "outputs": [],
   "source": [
    "class Node:\n",
    "    \n",
    "    def __init__(self, data):\n",
    "        self.data = data\n",
    "        self.next = None\n",
    "        \n",
    "class LinkedList:\n",
    "    \n",
    "    def __init__(self):\n",
    "        self.head = None\n",
    "        \n",
    "    def print_list(self):\n",
    "        cur_node = self.head\n",
    "        while cur_node:\n",
    "            print(cur_node.data)\n",
    "            cur_node = cur_node.next\n",
    "        \n",
    "    def append(self, data):\n",
    "        new_node = Node(data)\n",
    "        \n",
    "        if self.head is None:\n",
    "            self.head = new_node\n",
    "            return\n",
    "        \n",
    "        last_node = self.head\n",
    "        \n",
    "        while last_node.next: #Find the last node starting from the first\n",
    "            last_node = last_node.next\n",
    "            \n",
    "        last_node.next = new_node #Set the last not to the appended node\n",
    "        \n",
    "    def prepend(self, data):\n",
    "        new_node = Node(data) #Create new node      \n",
    "        new_node.next = self.head #Set the previous head as the next element  \n",
    "        self.head = new_node #Set new head of the list\n",
    "        \n",
    "    def insert_after_node(self, prev_node , data):\n",
    "        if not prev_node:\n",
    "            print('Previous node not in the list')\n",
    "            return\n",
    "        \n",
    "        new_node = Node(data) #Create new node    \n",
    "        new_node.next = prev_node.next\n",
    "        prev_node.next = new_node     \n",
    "        \n",
    "    def delete_node(self, key):\n",
    "        \n",
    "        cur_node = self.head\n",
    "        \n",
    "        if cur_node and cur_node.data == key:\n",
    "            self.head = cur_node.next\n",
    "            cur_node = None\n",
    "        else:\n",
    "            while cur_node.data != key and cur_node:\n",
    "                prev_node = cur_node\n",
    "                cur_node = cur_node.next\n",
    "                \n",
    "                if cur_node is None:\n",
    "                    return\n",
    "                \n",
    "            prev_node.next = cur_node.next\n",
    "            cur_node = None\n",
    "            \n",
    "    def delete_node_idx(self, idx):\n",
    "        \n",
    "        cur_node = self.head\n",
    "        \n",
    "        if idx == 0: #If index is = delete head node  \n",
    "            self.head = cur_node.next\n",
    "            cur_node = None\n",
    "            \n",
    "        else:\n",
    "            i = 0\n",
    "            while cur_node and idx != i:\n",
    "                prev_node = cur_node\n",
    "                cur_node = cur_node.next\n",
    "                i += 1\n",
    "            if cur_node == None:\n",
    "                return\n",
    "            else:\n",
    "                prev_node.next = cur_node.next\n",
    "                cur_node = None\n",
    "                \n",
    "    def reverse_iterative(self):\n",
    "        \n",
    "        cur_node = self.head\n",
    "        prev_node = None\n",
    "        \n",
    "        while cur_node != None:\n",
    "            \n",
    "            next_node = cur_node.next\n",
    "            cur_node.next = prev_node\n",
    "            prev_node = cur_node\n",
    "            cur_node = next_node\n",
    "            \n",
    "        self.head = prev_node\n",
    "        \n",
    "    def reverse_recursive(self):\n",
    "            "
   ]
  },
  {
   "cell_type": "code",
   "execution_count": 73,
   "metadata": {},
   "outputs": [
    {
     "name": "stdout",
     "output_type": "stream",
     "text": [
      "A\n",
      "B\n",
      "C\n"
     ]
    }
   ],
   "source": [
    "linked_list = LinkedList()\n",
    "linked_list.append('A')\n",
    "linked_list.append('B')\n",
    "linked_list.append('C')\n",
    "linked_list.print_list()"
   ]
  },
  {
   "cell_type": "code",
   "execution_count": 74,
   "metadata": {},
   "outputs": [
    {
     "name": "stdout",
     "output_type": "stream",
     "text": [
      "E\n",
      "A\n",
      "B\n",
      "C\n"
     ]
    }
   ],
   "source": [
    "linked_list.prepend('E')\n",
    "linked_list.print_list()"
   ]
  },
  {
   "cell_type": "code",
   "execution_count": 75,
   "metadata": {},
   "outputs": [
    {
     "name": "stdout",
     "output_type": "stream",
     "text": [
      "E\n",
      "A\n",
      "X\n",
      "B\n",
      "C\n"
     ]
    }
   ],
   "source": [
    "linked_list.insert_after_node(linked_list.head.next,'X')\n",
    "linked_list.print_list()"
   ]
  },
  {
   "cell_type": "code",
   "execution_count": 76,
   "metadata": {},
   "outputs": [
    {
     "name": "stdout",
     "output_type": "stream",
     "text": [
      "E\n",
      "A\n",
      "B\n",
      "C\n"
     ]
    }
   ],
   "source": [
    "linked_list.delete_node('X')\n",
    "linked_list.print_list()"
   ]
  },
  {
   "cell_type": "code",
   "execution_count": 77,
   "metadata": {},
   "outputs": [
    {
     "name": "stdout",
     "output_type": "stream",
     "text": [
      "E\n",
      "B\n",
      "C\n"
     ]
    }
   ],
   "source": [
    "linked_list.delete_node_idx(1)\n",
    "linked_list.print_list()"
   ]
  },
  {
   "cell_type": "code",
   "execution_count": 78,
   "metadata": {},
   "outputs": [
    {
     "name": "stdout",
     "output_type": "stream",
     "text": [
      "C\n",
      "B\n",
      "E\n"
     ]
    }
   ],
   "source": [
    "linked_list.reverse_iterative()\n",
    "linked_list.print_list()"
   ]
  },
  {
   "cell_type": "code",
   "execution_count": null,
   "metadata": {},
   "outputs": [],
   "source": []
  }
 ],
 "metadata": {
  "kernelspec": {
   "display_name": "Python 3",
   "language": "python",
   "name": "python3"
  },
  "language_info": {
   "codemirror_mode": {
    "name": "ipython",
    "version": 3
   },
   "file_extension": ".py",
   "mimetype": "text/x-python",
   "name": "python",
   "nbconvert_exporter": "python",
   "pygments_lexer": "ipython3",
   "version": "3.7.4"
  }
 },
 "nbformat": 4,
 "nbformat_minor": 4
}
