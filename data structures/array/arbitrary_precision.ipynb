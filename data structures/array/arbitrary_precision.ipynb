{
 "cells": [
  {
   "cell_type": "markdown",
   "metadata": {},
   "source": [
    "# Arbitrary Precision Increment\n",
    "\n",
    "## Given:\n",
    "\n",
    "    An array of non-negative digits that represent a decimal integer.\n",
    "    \n",
    "## Problem:\n",
    "\n",
    "    Add one to the integer. Assume the solution still works even if implemented in a language with finite-precision arithmetic."
   ]
  },
  {
   "cell_type": "code",
   "execution_count": 1,
   "metadata": {},
   "outputs": [],
   "source": [
    "A = [1,4,9]\n",
    "B = [9,9,9]"
   ]
  },
  {
   "cell_type": "code",
   "execution_count": 8,
   "metadata": {},
   "outputs": [],
   "source": [
    "def array_increment_initial(lst):\n",
    "    lst[-1] += 1\n",
    "    for i in reversed(range(1, len(lst))):\n",
    "        if lst[i] != 10:\n",
    "            break\n",
    "        else:\n",
    "            lst[i] = 0\n",
    "            lst[i-1] += 1\n",
    "        if lst[0] == 10:\n",
    "            lst[0] = 1\n",
    "            lst.append(0)\n",
    "    return lst"
   ]
  },
  {
   "cell_type": "code",
   "execution_count": 9,
   "metadata": {},
   "outputs": [
    {
     "data": {
      "text/plain": [
       "[1, 4, 1]"
      ]
     },
     "execution_count": 9,
     "metadata": {},
     "output_type": "execute_result"
    }
   ],
   "source": [
    "array_increment_initial(A)"
   ]
  },
  {
   "cell_type": "code",
   "execution_count": null,
   "metadata": {},
   "outputs": [],
   "source": [
    "array"
   ]
  }
 ],
 "metadata": {
  "kernelspec": {
   "display_name": "Python 3",
   "language": "python",
   "name": "python3"
  },
  "language_info": {
   "codemirror_mode": {
    "name": "ipython",
    "version": 3
   },
   "file_extension": ".py",
   "mimetype": "text/x-python",
   "name": "python",
   "nbconvert_exporter": "python",
   "pygments_lexer": "ipython3",
   "version": "3.7.4"
  }
 },
 "nbformat": 4,
 "nbformat_minor": 4
}
