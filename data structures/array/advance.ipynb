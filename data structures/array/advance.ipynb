{
 "cells": [
  {
   "cell_type": "markdown",
   "metadata": {},
   "source": [
    "# Arrays"
   ]
  },
  {
   "cell_type": "markdown",
   "metadata": {},
   "source": [
    "## Array Advance Game\n",
    "\n",
    "### You are given an array of non-negative integers. For example:\n",
    "\n",
    "    [3,3,1,0,2,0,1]\n",
    "    \n",
    "Each number represents the maximum you can advance in the array.\n",
    "\n",
    "## Question:\n",
    "Is it possible to advance from the start of the array to the last element?"
   ]
  },
  {
   "cell_type": "markdown",
   "metadata": {},
   "source": [
    "## Setting Variables"
   ]
  },
  {
   "cell_type": "code",
   "execution_count": 17,
   "metadata": {},
   "outputs": [],
   "source": [
    "A = [3,3,1,0,2,0,1] #True\n",
    "B = [3,2,0,0,2,0,1] #False\n",
    "C = [2,4,1,1,0,2,3] #True"
   ]
  },
  {
   "cell_type": "markdown",
   "metadata": {},
   "source": [
    "## 1. My initial code"
   ]
  },
  {
   "cell_type": "code",
   "execution_count": 21,
   "metadata": {},
   "outputs": [
    {
     "name": "stdout",
     "output_type": "stream",
     "text": [
      "3.79 µs ± 130 ns per loop (mean ± std. dev. of 7 runs, 100000 loops each)\n"
     ]
    }
   ],
   "source": [
    "def array_advance_initial(lst):\n",
    "    if len(lst) == 0:\n",
    "        return True\n",
    "    if lst[0] == 0:\n",
    "        return False\n",
    "    else:\n",
    "        for i in range(1, lst[0] + 1):\n",
    "            if advance_strategy_initial(lst[i:]):\n",
    "                return True\n",
    "            else:\n",
    "                pass\n",
    "    return False  \n",
    "\n",
    "%timeit advance_strategy_initial(A)"
   ]
  },
  {
   "cell_type": "markdown",
   "metadata": {},
   "source": [
    "# 2. Actual Code"
   ]
  },
  {
   "cell_type": "code",
   "execution_count": 38,
   "metadata": {},
   "outputs": [],
   "source": [
    "def array_advance(lst):\n",
    "    \n",
    "    furthest_reached = 0\n",
    "    last_idx = len(lst) - 1\n",
    "    i = 0\n",
    "    while i <= furthest_reached and furthest_reached < last_idx:\n",
    "        furthest_reached = max(furthest_reached, lst[i] + i)\n",
    "        i += 1\n",
    "        \n",
    "    return furthest_reached >= last_idx"
   ]
  }
 ],
 "metadata": {
  "kernelspec": {
   "display_name": "Python 3",
   "language": "python",
   "name": "python3"
  },
  "language_info": {
   "codemirror_mode": {
    "name": "ipython",
    "version": 3
   },
   "file_extension": ".py",
   "mimetype": "text/x-python",
   "name": "python",
   "nbconvert_exporter": "python",
   "pygments_lexer": "ipython3",
   "version": "3.7.4"
  }
 },
 "nbformat": 4,
 "nbformat_minor": 4
}
