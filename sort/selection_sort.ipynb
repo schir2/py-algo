{
 "cells": [
  {
   "cell_type": "markdown",
   "metadata": {},
   "source": [
    "# Selection Sort (Junk)\n",
    "\n",
    "### Time Complexity: O(n^2)\n",
    "### Memory Complexity: O(1)\n",
    "\n",
    "Takes the smallest element of the main array and places it at the end of the sorted subarray. The element is removed from the main array.\n",
    "The proccess keeps finding the smallest element of the main aray and placing it at the end of the sorted array."
   ]
  },
  {
   "cell_type": "code",
   "execution_count": 1,
   "metadata": {},
   "outputs": [],
   "source": [
    "import random"
   ]
  },
  {
   "cell_type": "code",
   "execution_count": 2,
   "metadata": {},
   "outputs": [],
   "source": [
    "arr = [random.randint(1,1000) for _ in range(1000)]"
   ]
  },
  {
   "cell_type": "code",
   "execution_count": 7,
   "metadata": {},
   "outputs": [],
   "source": [
    "def selection_sort(arr):\n",
    "    ln_arr = len(arr)\n",
    "    for i in range(ln_arr):\n",
    "        min_index = i\n",
    "        for j in range(i + 1, ln_arr):\n",
    "            if arr[j] < arr[min_index]:\n",
    "                min_index = j\n",
    "        arr[min_index], arr[i] = arr[i], arr[min_index]\n",
    "    return arr"
   ]
  },
  {
   "cell_type": "code",
   "execution_count": null,
   "metadata": {},
   "outputs": [],
   "source": []
  }
 ],
 "metadata": {
  "kernelspec": {
   "display_name": "Python 3",
   "language": "python",
   "name": "python3"
  },
  "language_info": {
   "codemirror_mode": {
    "name": "ipython",
    "version": 3
   },
   "file_extension": ".py",
   "mimetype": "text/x-python",
   "name": "python",
   "nbconvert_exporter": "python",
   "pygments_lexer": "ipython3",
   "version": "3.7.4"
  }
 },
 "nbformat": 4,
 "nbformat_minor": 4
}
