{
 "cells": [
  {
   "cell_type": "markdown",
   "metadata": {},
   "source": [
    "# Two Sum Problem\n",
    "\n",
    "Given a sorted array of integers, return the two numbers such that\n",
    "they add up to a specific target. You may assume that each input\n",
    "would have exactly one solution, and you may not use the same element twice"
   ]
  },
  {
   "cell_type": "markdown",
   "metadata": {},
   "source": [
    "## Variables"
   ]
  },
  {
   "cell_type": "code",
   "execution_count": 1,
   "metadata": {},
   "outputs": [],
   "source": [
    "A = [-2, 1, 2, 4, 7, 11]\n",
    "target = 13"
   ]
  },
  {
   "cell_type": "markdown",
   "metadata": {},
   "source": [
    "## 1. Brute Force\n",
    "\n",
    "##### Time Complexity: O(n^2)\n",
    "##### Space Complexity: O(1)"
   ]
  },
  {
   "cell_type": "code",
   "execution_count": 3,
   "metadata": {},
   "outputs": [],
   "source": [
    "def two_sum_brute_force(A , target):\n",
    "    for i in range(len(A) - 1):\n",
    "        for j in range(i+1, len(A)):\n",
    "            if A[i] + A[j] == target:\n",
    "                return True\n",
    "    return False"
   ]
  },
  {
   "cell_type": "code",
   "execution_count": 5,
   "metadata": {},
   "outputs": [
    {
     "data": {
      "text/plain": [
       "True"
      ]
     },
     "execution_count": 5,
     "metadata": {},
     "output_type": "execute_result"
    }
   ],
   "source": [
    "two_sum_brute_force(A, target)"
   ]
  },
  {
   "cell_type": "markdown",
   "metadata": {},
   "source": [
    "## 2. Hash Table\n",
    "\n",
    "##### Time Complexity: O(n)\n",
    "##### Space Complexity: O(n)"
   ]
  },
  {
   "cell_type": "code",
   "execution_count": 9,
   "metadata": {},
   "outputs": [],
   "source": [
    "def two_sum_hash_table(A, target):\n",
    "    ht = dict()\n",
    "    for i in range(len(A)):\n",
    "        if A[i] in ht:\n",
    "            return True\n",
    "        else:\n",
    "            ht[target - A[i]] = A[i]\n",
    "    return False"
   ]
  },
  {
   "cell_type": "code",
   "execution_count": 10,
   "metadata": {},
   "outputs": [
    {
     "data": {
      "text/plain": [
       "True"
      ]
     },
     "execution_count": 10,
     "metadata": {},
     "output_type": "execute_result"
    }
   ],
   "source": [
    "two_sum_hash_table(A, target)"
   ]
  },
  {
   "cell_type": "markdown",
   "metadata": {},
   "source": [
    "## 3.\n",
    "##### Time Complexity: O(n)\n",
    "##### Space Complexity: O(1)"
   ]
  },
  {
   "cell_type": "code",
   "execution_count": 11,
   "metadata": {},
   "outputs": [],
   "source": [
    "def two_sum_best(A, target):\n",
    "    i = 0\n",
    "    j = len(A) - 1\n",
    "    \n",
    "    while i <= j:\n",
    "        if A[i] + A[j] == target:\n",
    "            return True\n",
    "        elif A[i] + A[j] < target:\n",
    "            i += 1\n",
    "        else:\n",
    "            j -= 1\n",
    "    return False"
   ]
  },
  {
   "cell_type": "code",
   "execution_count": 16,
   "metadata": {},
   "outputs": [
    {
     "name": "stdout",
     "output_type": "stream",
     "text": [
      "440 ns ± 13.6 ns per loop (mean ± std. dev. of 7 runs, 1000000 loops each)\n"
     ]
    }
   ],
   "source": [
    "%timeit two_sum_best(A, 12)"
   ]
  },
  {
   "cell_type": "code",
   "execution_count": 15,
   "metadata": {},
   "outputs": [],
   "source": [
    "def two_sum_best2(A, target):\n",
    "    i = 0\n",
    "    j = len(A) - 1\n",
    "    \n",
    "    while i <= j:\n",
    "        result = A[i] + A[j]\n",
    "        if result == target:\n",
    "            return True\n",
    "        elif result < target:\n",
    "            i += 1\n",
    "        else:\n",
    "            j -= 1\n",
    "    return False"
   ]
  },
  {
   "cell_type": "code",
   "execution_count": null,
   "metadata": {},
   "outputs": [],
   "source": [
    "%timeit two_sum_best2(A, 12)"
   ]
  },
  {
   "cell_type": "code",
   "execution_count": null,
   "metadata": {},
   "outputs": [],
   "source": []
  }
 ],
 "metadata": {
  "kernelspec": {
   "display_name": "Python 3",
   "language": "python",
   "name": "python3"
  },
  "language_info": {
   "codemirror_mode": {
    "name": "ipython",
    "version": 3
   },
   "file_extension": ".py",
   "mimetype": "text/x-python",
   "name": "python",
   "nbconvert_exporter": "python",
   "pygments_lexer": "ipython3",
   "version": "3.7.4"
  }
 },
 "nbformat": 4,
 "nbformat_minor": 4
}
